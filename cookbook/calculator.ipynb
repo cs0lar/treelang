{
 "cells": [
  {
   "cell_type": "markdown",
   "metadata": {},
   "source": [
    "# Simple Calculator with `treelang`\n",
    "\n",
    "This cookbook shows how to implement a simple calculator that computes arithmetic expression using a small set of operations (`add`, `subtract`, `multiply`, `divide`, `power`, `squareroot`). \n",
    "\n",
    "With `treelang` each expression requires a *single call* to the LLM to evaluate it!\n",
    "\n",
    "The MCP server with the tool definition for each operation is in `calculator.py` in this directory and we will use the `stdio` transport (see the [python SDK documentation](https://github.com/modelcontextprotocol/python-sdk)) to communicate with it.\n"
   ]
  },
  {
   "cell_type": "markdown",
   "metadata": {},
   "source": [
    "## Imports\n"
   ]
  },
  {
   "cell_type": "code",
   "execution_count": 1,
   "metadata": {},
   "outputs": [],
   "source": [
    "import asyncio\n",
    "\n",
    "# mcp components for stdio communication\n",
    "from mcp import ClientSession, StdioServerParameters, stdio_client\n",
    "\n",
    "# our helpful `Arborist` implementation\n",
    "from treelang.ai.arborist import OpenAIArborist"
   ]
  },
  {
   "cell_type": "markdown",
   "metadata": {},
   "source": [
    "## Client\n",
    "Most of the work here is setting up the MCP client-server communication channel and the math we will ask the `Arborist` to solve. "
   ]
  },
  {
   "cell_type": "code",
   "execution_count": null,
   "metadata": {},
   "outputs": [],
   "source": [
    "import os\n",
    "import math\n",
    "\n",
    "from treelang.ai.arborist import EvalType\n",
    "from treelang.trees.tree import AST\n",
    "\n",
    "# the asynchronous `main` function\n",
    "async def main():\n",
    "    # server parameters for running the calculator server\n",
    "    path = os.path.join(os.getcwd(), \"calculator.py\")\n",
    "    server_params = StdioServerParameters(\n",
    "        path=path, \n",
    "        command=\"python\", args=[path], env=None\n",
    "    )\n",
    "    \n",
    "    # establish a communication channel with the server\n",
    "    async with stdio_client(server_params) as (read, write):\n",
    "        # create a client session for interaction\n",
    "        async with ClientSession(read, write) as session:\n",
    "            # initialize the session\n",
    "            await session.initialize()\n",
    "            \n",
    "            # create and configure the Arborist\n",
    "            arborist = OpenAIArborist(model=\"gpt-4o-2024-11-20\", session=session)\n",
    "            # we will evaluate the following math expressions\n",
    "            expressions = [\n",
    "                \"sqrt( ( 25 + 10 ) * 4 ) + 3^2 - 8\",\n",
    "                \"( 15 / 3 ) + ( 2^4 - 6 ) * ( 9 - 5 )\",\n",
    "                \"( 50 - 8 ) / 2 + sqrt( 64 ) * 3^2\",\n",
    "                \"( 7^2 - 10 ) / 5 + sqrt( 49 ) * ( 6 - 2 )\"\n",
    "            ]\n",
    "            # expected results for the above expressions\n",
    "            expected_results = [\n",
    "                math.sqrt((25 + 10) * 4) + 3**2 - 8,\n",
    "                (15 / 3) + (2**4 - 6) * (9 - 5),\n",
    "                (50 - 8) / 2 + math.sqrt(64) * 3**2,\n",
    "                (7**2 - 10) / 5 + math.sqrt(49) * (6 - 2)\n",
    "            ]\n",
    "            # evaluate each expression and print the results\n",
    "            for idx, expr in enumerate(expressions):\n",
    "                # ask the arborist...\n",
    "                response = await arborist.eval(f\"can you please calculate {expr}?\")\n",
    "                # ... and ye shall receive\n",
    "                print(f\"{expr} = {response.content}\")\n",
    "                # but check that results are correct\n",
    "                assert response.content == expected_results[idx], f\"Expected {expected_results[idx]}, got {response.content}\"\n",
    "            # let's see what the AST for the first expression looks like\n",
    "            response = await arborist.eval(f\"what is {expressions[0]}?\", EvalType.TREE)\n",
    "            print(f\"AST for {expressions[0]} is:\\n {AST.repr(response.content)}\")"
   ]
  },
  {
   "cell_type": "markdown",
   "metadata": {},
   "source": [
    "## Main\n",
    "The MCP and the `Arborist` are asynchornous processes so we hook into the jupiter notebook's event loop and invoke the async `main`."
   ]
  },
  {
   "cell_type": "code",
   "execution_count": 7,
   "metadata": {},
   "outputs": [
    {
     "data": {
      "text/plain": [
       "<Task pending name='Task-15' coro=<main() running at /tmp/ipykernel_11678/2897641564.py:8>>"
      ]
     },
     "execution_count": 7,
     "metadata": {},
     "output_type": "execute_result"
    },
    {
     "name": "stdout",
     "output_type": "stream",
     "text": [
      "AST for sqrt( ( 25 + 10 ) * 4 ) + 3^2 - 8 is:\n",
      " {\"subtract_1\": {\"add_1\": {\"sqrt_1\": {\"multiply_1\": {\"add_2\": {\"a\": [25], \"b\": [10]}, \"b\": [4]}}, \"power_1\": {\"a\": [3], \"b\": [2]}}, \"b\": [8]}}\n"
     ]
    }
   ],
   "source": [
    "loop = asyncio.get_event_loop()\n",
    "loop.create_task(main())"
   ]
  }
 ],
 "metadata": {
  "kernelspec": {
   "display_name": ".venv",
   "language": "python",
   "name": "python3"
  },
  "language_info": {
   "codemirror_mode": {
    "name": "ipython",
    "version": 3
   },
   "file_extension": ".py",
   "mimetype": "text/x-python",
   "name": "python",
   "nbconvert_exporter": "python",
   "pygments_lexer": "ipython3",
   "version": "3.12.8"
  }
 },
 "nbformat": 4,
 "nbformat_minor": 2
}
