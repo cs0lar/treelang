{
 "cells": [
  {
   "cell_type": "markdown",
   "metadata": {},
   "source": [
    "# Simple Calculator with `treelang`\n",
    "\n",
    "This notebook demonstrates how to use the `OpenAIArborist` class to evaluate mathematical expressions asynchronously. The code leverages the `asyncio` library for asynchronous operations and interacts with a server using the `mcp` library. The `OpenAIArborist` is configured to process and evaluate complex mathematical expressions, showcasing its capabilities in handling arithmetic operations and comparisons.\n"
   ]
  },
  {
   "cell_type": "markdown",
   "metadata": {},
   "source": [
    "# Import Required Libraries\n",
    "Import all necessary libraries, including asyncio, mcp, starlette, and the custom OpenAIArborist class."
   ]
  },
  {
   "cell_type": "code",
   "execution_count": 6,
   "metadata": {},
   "outputs": [],
   "source": [
    "# Importing asyncio for asynchronous programming\n",
    "import asyncio\n",
    "\n",
    "# Importing mcp library components for client-server communication\n",
    "from mcp import ClientSession, StdioServerParameters, stdio_client\n",
    "\n",
    "# Importing the custom OpenAIArborist class for expression evaluation\n",
    "from treelang.ai.arborist import OpenAIArborist"
   ]
  },
  {
   "cell_type": "markdown",
   "metadata": {},
   "source": [
    "# Explanation of the Code\n",
    "Explain the purpose of each part of the code, including the server parameters, the use of stdio_client, and the interaction with the OpenAIArborist class."
   ]
  },
  {
   "cell_type": "markdown",
   "metadata": {},
   "source": [
    "# Define the `main` Function\n",
    "Define the asynchronous `main` function, which initializes the session, queries the OpenAIArborist, and prints the results of the evaluated expressions."
   ]
  },
  {
   "cell_type": "code",
   "execution_count": 7,
   "metadata": {},
   "outputs": [],
   "source": [
    "import os\n",
    "import math\n",
    "\n",
    "# Define the `main` Function\n",
    "\n",
    "# Define the asynchronous `main` function\n",
    "async def main():\n",
    "    # Define server parameters for running the calculator script\n",
    "    path = os.path.join(os.getcwd(), \"calculator.py\")\n",
    "    server_params = StdioServerParameters(\n",
    "        path=path,  # Full path to the server script\n",
    "        command=\"python\", args=[path], env=None\n",
    "    )\n",
    "    \n",
    "    # Establish a communication channel with the server\n",
    "    async with stdio_client(server_params) as (read, write):\n",
    "        # Create a client session for interaction\n",
    "        async with ClientSession(read, write) as session:\n",
    "            # Initialize the session\n",
    "            await session.initialize()\n",
    "            \n",
    "            # Create an instance of OpenAIArborist with the specified model\n",
    "            arborist = OpenAIArborist(model=\"gpt-4o-2024-11-20\", session=session)\n",
    "            expressions = [\n",
    "                \"sqrt( ( 25 + 10 ) * 4 ) + 3^2 - 8\",\n",
    "                \"( 15 / 3 ) + ( 2^4 - 6 ) * ( 9 - 5 )\",\n",
    "                \"( 50 - 8 ) / 2 + sqrt( 64 ) * 3^2\",\n",
    "                \"( 7^2 - 10 ) / 5 + sqrt( 49 ) * ( 6 - 2 )\"\n",
    "            ]\n",
    "            expected_results = [\n",
    "                math.sqrt((25 + 10) * 4) + 3**2 - 8,\n",
    "                (15 / 3) + (2**4 - 6) * (9 - 5),\n",
    "                (50 - 8) / 2 + math.sqrt(64) * 3**2,\n",
    "                (7**2 - 10) / 5 + math.sqrt(49) * (6 - 2)\n",
    "            ]\n",
    "            # Evaluate each expression and print the results\n",
    "            for idx, expr in enumerate(expressions):\n",
    "                # Evaluate the expression using the arborist\n",
    "                response = await arborist.eval(f\"can you please calculate {expr}?\")\n",
    "                # Print the evaluated result\n",
    "                print(f\"{expr} = {response.content}\")\n",
    "                # Check that test results are correct\n",
    "                assert response.content == expected_results[idx], f\"Expected {expected_results[idx]}, got {response.content}\""
   ]
  },
  {
   "cell_type": "markdown",
   "metadata": {},
   "source": [
    "# Run the Asynchronous Main Function\n",
    "Use asyncio.run() to execute the `main` function and display the output in the notebook."
   ]
  },
  {
   "cell_type": "code",
   "execution_count": null,
   "metadata": {},
   "outputs": [
    {
     "data": {
      "text/plain": [
       "<Task pending name='Task-61' coro=<main() running at /tmp/ipykernel_83960/1051496834.py:7>>"
      ]
     },
     "execution_count": 8,
     "metadata": {},
     "output_type": "execute_result"
    },
    {
     "name": "stdout",
     "output_type": "stream",
     "text": [
      "sqrt( ( 25 + 10 ) * 4 ) + 3^2 - 8 = 12.83215956619923\n",
      "( 15 / 3 ) + ( 2^4 - 6 ) * ( 9 - 5 ) = 45.0\n",
      "( 50 - 8 ) / 2 + sqrt( 64 ) * 3^2 = 93.0\n",
      "( 7^2 - 10 ) / 5 + sqrt( 49 ) * ( 6 - 2 ) = 35.8\n"
     ]
    }
   ],
   "source": [
    "# run the main function\n",
    "loop = asyncio.get_event_loop()\n",
    "loop.create_task(main())"
   ]
  }
 ],
 "metadata": {
  "kernelspec": {
   "display_name": ".venv",
   "language": "python",
   "name": "python3"
  },
  "language_info": {
   "codemirror_mode": {
    "name": "ipython",
    "version": 3
   },
   "file_extension": ".py",
   "mimetype": "text/x-python",
   "name": "python",
   "nbconvert_exporter": "python",
   "pygments_lexer": "ipython3",
   "version": "3.12.8"
  }
 },
 "nbformat": 4,
 "nbformat_minor": 2
}
