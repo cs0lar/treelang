{
 "cells": [
  {
   "cell_type": "markdown",
   "metadata": {},
   "source": [
    "# Simple Calculator with `treelang`\n",
    "\n",
    "This cookbook shows how to implement a simple calculator that computes arithmetic expression using a small set of operations (`add`, `subtract`, `multiply`, `divide`, `power`, `squareroot`). \n",
    "\n",
    "With `treelang` each expression requires a *single call* to the LLM to evaluate it!\n",
    "\n",
    "The MCP server with the tool definition for each operation is in `calculator.py` in this directory and we will use the `stdio` transport (see the [python SDK documentation](https://github.com/modelcontextprotocol/python-sdk)) to communicate with it.\n"
   ]
  },
  {
   "cell_type": "markdown",
   "metadata": {},
   "source": [
    "## Imports\n"
   ]
  },
  {
   "cell_type": "code",
   "execution_count": 1,
   "metadata": {},
   "outputs": [],
   "source": [
    "import asyncio\n",
    "\n",
    "# mcp components for stdio communication\n",
    "from mcp import ClientSession, StdioServerParameters, stdio_client\n",
    "\n",
    "# our helpful `Arborist` implementation\n",
    "from treelang.ai.arborist import OpenAIArborist"
   ]
  },
  {
   "cell_type": "markdown",
   "metadata": {},
   "source": [
    "## Client\n",
    "Most of the work here is setting up the MCP client-server communication channel and the math we will ask the `Arborist` to solve. "
   ]
  },
  {
   "cell_type": "code",
   "execution_count": 2,
   "metadata": {},
   "outputs": [],
   "source": [
    "import os\n",
    "import math\n",
    "\n",
    "from treelang.ai.arborist import EvalType\n",
    "from treelang.ai.provider import MCPToolProvider\n",
    "from treelang.trees.tree import AST\n",
    "\n",
    "# the asynchronous `main` function\n",
    "async def main():\n",
    "    # server parameters for running the calculator server\n",
    "    path = os.path.join(os.getcwd(), \"calculator.py\")\n",
    "    server_params = StdioServerParameters(\n",
    "        path=path, \n",
    "        command=\"python\", args=[path], env=None\n",
    "    )\n",
    "    \n",
    "    # establish a communication channel with the server\n",
    "    async with stdio_client(server_params) as (read, write):\n",
    "        # create a client session for interaction\n",
    "        async with ClientSession(read, write) as session:\n",
    "            # initialize the session\n",
    "            await session.initialize()\n",
    "            provider = MCPToolProvider(session)\n",
    "            # create and configure the Arborist\n",
    "            arborist = OpenAIArborist(model=\"gpt-4o-2024-11-20\", provider=provider)\n",
    "            # we will evaluate the following math expressions\n",
    "            expressions = [\n",
    "                \"sqrt( ( 25 + 10 ) * 4 ) + 3^2 - 8\",\n",
    "                \"( 15 / 3 ) + ( 2^4 - 6 ) * ( 9 - 5 )\",\n",
    "                \"( 50 - 8 ) / 2 + sqrt( 64 ) * 3^2\",\n",
    "                \"( 7^2 - 10 ) / 5 + sqrt( 49 ) * ( 6 - 2 )\"\n",
    "            ]\n",
    "            # expected results for the above expressions\n",
    "            expected_results = [\n",
    "                math.sqrt((25 + 10) * 4) + 3**2 - 8,\n",
    "                (15 / 3) + (2**4 - 6) * (9 - 5),\n",
    "                (50 - 8) / 2 + math.sqrt(64) * 3**2,\n",
    "                (7**2 - 10) / 5 + math.sqrt(49) * (6 - 2)\n",
    "            ]\n",
    "            # evaluate each expression and print the results\n",
    "            for idx, expr in enumerate(expressions):\n",
    "                # ask the arborist...\n",
    "                response = await arborist.eval(f\"can you please calculate {expr}?\")\n",
    "                # ... and ye shall receive\n",
    "                print(f\"{expr} = {response.content}\")\n",
    "                # but check that results are correct\n",
    "                assert response.content == expected_results[idx], f\"Expected {expected_results[idx]}, got {response.content}\"\n",
    "            # let's see what the AST for the first expression looks like\n",
    "            response = await arborist.eval(f\"what is {expressions[0]}?\", EvalType.TREE)\n",
    "            print(f\"\\nAST for {expressions[0]} is:\\n {AST.repr(response.content)}\")\n",
    "            # let's see a chatty response\n",
    "            question = f\"can you please calculate {expressions[1]}?\"\n",
    "            response = await arborist.eval(question, EvalType.WALK)\n",
    "            print(f\"\\nQUESTION: {question}\")\n",
    "            print(f\"\\nANSWER: {await response.explain()}\")\n",
    "            # let's see how conditionals work\n",
    "            question = f\"can you please calculate {expressions[2]}? but if the result is greater than 100, return 100\"\n",
    "            response = await arborist.eval(question, EvalType.TREE)\n",
    "            print(f\"\\nQUESTION: {question}\")\n",
    "            print(f\"\\nTREE: {AST.repr(response.content)}\")\n",
    "            # let's evaluate the conditional\n",
    "            response = await arborist.eval(question)\n",
    "            print(f\"\\nEVALUATED ANSWER: {response.content}\")\n",
    "            # example of higher-order functions: loops!\n",
    "            numbers = [1, 2, 3, 4, 5]\n",
    "            squared = [n**2 for n in numbers]\n",
    "            question = f\"can you please square this list of numbers: {numbers}?\"\n",
    "            response = await arborist.eval(question, EvalType.TREE)\n",
    "            print(f\"\\nQUESTION: {question}\")\n",
    "            print(f\"\\nMAPPED RESULT: {response.jsontree}\")\n",
    "            response = await AST.eval(response.content, provider)\n",
    "            print(f\"\\nEVALUATED ANSWER: {[int(x) for x in response]}\")\n",
    "            assert response == squared, f\"Expected {squared}, got {response}\""
   ]
  },
  {
   "cell_type": "markdown",
   "metadata": {},
   "source": [
    "## Main\n",
    "The MCP and the `Arborist` are asynchornous processes so we hook into the jupiter notebook's event loop and invoke the async `main`."
   ]
  },
  {
   "cell_type": "code",
   "execution_count": null,
   "metadata": {},
   "outputs": [
    {
     "data": {
      "text/plain": [
       "<Task pending name='Task-5' coro=<main() running at /tmp/ipykernel_25150/3501059140.py:9>>"
      ]
     },
     "execution_count": 3,
     "metadata": {},
     "output_type": "execute_result"
    },
    {
     "name": "stdout",
     "output_type": "stream",
     "text": [
      "sqrt( ( 25 + 10 ) * 4 ) + 3^2 - 8 = 12.83215956619923\n",
      "( 15 / 3 ) + ( 2^4 - 6 ) * ( 9 - 5 ) = 45.0\n",
      "( 50 - 8 ) / 2 + sqrt( 64 ) * 3^2 = 93.0\n",
      "( 7^2 - 10 ) / 5 + sqrt( 49 ) * ( 6 - 2 ) = 35.8\n",
      "\n",
      "AST for sqrt( ( 25 + 10 ) * 4 ) + 3^2 - 8 is:\n",
      " {\"subtract_1\": {\"add_1\": {\"sqrt_1\": {\"multiply_1\": {\"add_2\": {\"a\": [25], \"b\": [10]}, \"b\": [4]}}, \"power_1\": {\"a\": [3], \"b\": [2]}}, \"b\": [8]}}\n",
      "\n",
      "QUESTION: can you please calculate ( 15 / 3 ) + ( 2^4 - 6 ) * ( 9 - 5 )?\n",
      "\n",
      "ANSWER: Sure thing! Let’s break this down:\n",
      "\n",
      "The user’s question involves solving the expression: **(15 ÷ 3) + (2⁴ - 6) × (9 - 5)**. The provided JSON reveals the final answer as **45.0**. Here's how that result is calculated step-by-step:\n",
      "\n",
      "1. **Start with the first part:**  \n",
      "   \\( 15 ÷ 3 = 5 \\)\n",
      "\n",
      "2. **Handle the exponent in the next part:**  \n",
      "   \\( 2^4 = 16 \\)\n",
      "\n",
      "3. **Subtract 6 from 16:**  \n",
      "   \\( 16 - 6 = 10 \\)\n",
      "\n",
      "4. **Evaluate the subtraction in the last parentheses:**  \n",
      "   \\( 9 - 5 = 4 \\)\n",
      "\n",
      "5. **Multiply the results from step 3 and step 4:**  \n",
      "   \\( 10 × 4 = 40 \\)\n",
      "\n",
      "6. **Finally, add the results from step 1 and step 5:**  \n",
      "   \\( 5 + 40 = 45 \\)\n",
      "\n",
      "So, the entire expression simplifies to **45.0**. \n",
      "\n",
      "The JSON data simply gives us the calculated result, confirming that the math checks out. Let me know if you'd like help with any other calculations!\n",
      "\n",
      "QUESTION: can you please calculate ( 50 - 8 ) / 2 + sqrt( 64 ) * 3^2? but if the result is greater than 100, return 100\n",
      "\n",
      "TREE: {\"conditional_1\": {\"greater_than_1\": {\"add_1\": {\"divide_1\": {\"subtract_1\": {\"a\": [50], \"b\": [8]}, \"b\": [2]}, \"multiply_1\": {\"sqrt_1\": {\"a\": [64]}, \"power_1\": {\"a\": [3], \"b\": [2]}}}, \"b\": [100]}, \"result\": [100], \"add_2\": {\"divide_2\": {\"subtract_2\": {\"a\": [50], \"b\": [8]}, \"b\": [2]}, \"multiply_2\": {\"sqrt_2\": {\"a\": [64]}, \"power_2\": {\"a\": [3], \"b\": [2]}}}}}\n",
      "\n",
      "EVALUATED ANSWER: 93.0\n",
      "\n",
      "QUESTION: can you please square this list of numbers: [1, 2, 3, 4, 5]?\n",
      "\n",
      "MAPPED RESULT: {'type': 'program', 'body': [{'type': 'map', 'function': {'type': 'lambda', 'params': ['x'], 'body': {'type': 'function', 'name': 'power', 'params': [{'type': 'value', 'name': 'a', 'value': 0}, {'type': 'value', 'name': 'b', 'value': 2}]}}, 'iterable': {'type': 'value', 'name': 'numbers', 'value': [1, 2, 3, 4, 5]}}]}\n",
      "\n",
      "EVALUATED ANSWER: [1, 4, 9, 16, 25]\n"
     ]
    }
   ],
   "source": [
    "loop = asyncio.get_event_loop()\n",
    "loop.create_task(main())"
   ]
  }
 ],
 "metadata": {
  "kernelspec": {
   "display_name": ".venv",
   "language": "python",
   "name": "python3"
  },
  "language_info": {
   "codemirror_mode": {
    "name": "ipython",
    "version": 3
   },
   "file_extension": ".py",
   "mimetype": "text/x-python",
   "name": "python",
   "nbconvert_exporter": "python",
   "pygments_lexer": "ipython3",
   "version": "3.12.8"
  }
 },
 "nbformat": 4,
 "nbformat_minor": 2
}
