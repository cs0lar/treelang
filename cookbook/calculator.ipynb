{
 "cells": [
  {
   "cell_type": "markdown",
   "metadata": {},
   "source": [
    "# Simple Calculator with `treelang`\n",
    "\n",
    "This cookbook shows how to implement a simple calculator that computes arithmetic expression using a small set of operations (`add`, `subtract`, `multiply`, `divide`, `power`, `squareroot`). \n",
    "\n",
    "With `treelang` each expression requires a *single call* to the LLM to evaluate it!\n",
    "\n",
    "The MCP server with the tool definition for each operation is in `calculator.py` in this directory and we will use the `stdio` transport (see the [python SDK documentation](https://github.com/modelcontextprotocol/python-sdk)) to communicate with it.\n"
   ]
  },
  {
   "cell_type": "markdown",
   "metadata": {},
   "source": [
    "## Imports\n"
   ]
  },
  {
   "cell_type": "code",
   "execution_count": 1,
   "metadata": {},
   "outputs": [],
   "source": [
    "import asyncio\n",
    "\n",
    "# mcp components for stdio communication\n",
    "from mcp import ClientSession, StdioServerParameters, stdio_client\n",
    "\n",
    "# our helpful `Arborist` implementation\n",
    "from treelang.ai.arborist import OpenAIArborist"
   ]
  },
  {
   "cell_type": "markdown",
   "metadata": {},
   "source": [
    "## Client\n",
    "Most of the work here is setting up the MCP client-server communication channel and the math we will ask the `Arborist` to solve. "
   ]
  },
  {
   "cell_type": "code",
   "execution_count": null,
   "metadata": {},
   "outputs": [],
   "source": [
    "import os\n",
    "import math\n",
    "\n",
    "from treelang.ai.arborist import EvalType\n",
    "from treelang.ai.provider import MCPToolProvider\n",
    "from treelang.trees.tree import AST\n",
    "\n",
    "# the asynchronous `main` function\n",
    "async def main():\n",
    "    # server parameters for running the calculator server\n",
    "    path = os.path.join(os.getcwd(), \"calculator.py\")\n",
    "    server_params = StdioServerParameters(\n",
    "        path=path, \n",
    "        command=\"python\", args=[path], env=None\n",
    "    )\n",
    "    \n",
    "    # establish a communication channel with the server\n",
    "    async with stdio_client(server_params) as (read, write):\n",
    "        # create a client session for interaction\n",
    "        async with ClientSession(read, write) as session:\n",
    "            # initialize the session\n",
    "            await session.initialize()\n",
    "            provider = MCPToolProvider(session)\n",
    "            # create and configure the Arborist\n",
    "            arborist = OpenAIArborist(model=\"gpt-4o-2024-11-20\", provider=provider)\n",
    "            # we will evaluate the following math expressions\n",
    "            expressions = [\n",
    "                \"sqrt( ( 25 + 10 ) * 4 ) + 3^2 - 8\",\n",
    "                \"( 15 / 3 ) + ( 2^4 - 6 ) * ( 9 - 5 )\",\n",
    "                \"( 50 - 8 ) / 2 + sqrt( 64 ) * 3^2\",\n",
    "                \"( 7^2 - 10 ) / 5 + sqrt( 49 ) * ( 6 - 2 )\"\n",
    "            ]\n",
    "            # expected results for the above expressions\n",
    "            expected_results = [\n",
    "                math.sqrt((25 + 10) * 4) + 3**2 - 8,\n",
    "                (15 / 3) + (2**4 - 6) * (9 - 5),\n",
    "                (50 - 8) / 2 + math.sqrt(64) * 3**2,\n",
    "                (7**2 - 10) / 5 + math.sqrt(49) * (6 - 2)\n",
    "            ]\n",
    "            # evaluate each expression and print the results\n",
    "            for idx, expr in enumerate(expressions):\n",
    "                # ask the arborist...\n",
    "                response = await arborist.eval(f\"can you please calculate {expr}?\")\n",
    "                # ... and ye shall receive\n",
    "                print(f\"{expr} = {response.content}\")\n",
    "                # but check that results are correct\n",
    "                assert response.content == expected_results[idx], f\"Expected {expected_results[idx]}, got {response.content}\"\n",
    "            # let's see what the AST for the first expression looks like\n",
    "            response = await arborist.eval(f\"what is {expressions[0]}?\", EvalType.TREE)\n",
    "            print(f\"\\nAST for {expressions[0]} is:\\n {AST.repr(response.content)}\")\n",
    "            # let's see a chatty response\n",
    "            question = f\"can you please calculate {expressions[1]}?\"\n",
    "            response = await arborist.eval(question, EvalType.WALK)\n",
    "            print(f\"\\nQUESTION: {question}\")\n",
    "            print(f\"\\nANSWER: {response.explain()}\")"
   ]
  },
  {
   "cell_type": "markdown",
   "metadata": {},
   "source": [
    "## Main\n",
    "The MCP and the `Arborist` are asynchornous processes so we hook into the jupiter notebook's event loop and invoke the async `main`."
   ]
  },
  {
   "cell_type": "code",
   "execution_count": 3,
   "metadata": {},
   "outputs": [
    {
     "data": {
      "text/plain": [
       "<Task pending name='Task-5' coro=<main() running at /tmp/ipykernel_31603/4107820128.py:9>>"
      ]
     },
     "execution_count": 3,
     "metadata": {},
     "output_type": "execute_result"
    },
    {
     "name": "stdout",
     "output_type": "stream",
     "text": [
      "sqrt( ( 25 + 10 ) * 4 ) + 3^2 - 8 = 12.83215956619923\n",
      "( 15 / 3 ) + ( 2^4 - 6 ) * ( 9 - 5 ) = 45.0\n",
      "( 50 - 8 ) / 2 + sqrt( 64 ) * 3^2 = 93.0\n",
      "( 7^2 - 10 ) / 5 + sqrt( 49 ) * ( 6 - 2 ) = 35.8\n",
      "\n",
      "AST for sqrt( ( 25 + 10 ) * 4 ) + 3^2 - 8 is:\n",
      " {\"subtract_1\": {\"add_1\": {\"sqrt_1\": {\"multiply_1\": {\"add_2\": {\"a\": [25], \"b\": [10]}, \"b\": [4]}}, \"power_1\": {\"a\": [3], \"b\": [2]}}, \"b\": [8]}}\n",
      "\n",
      "QUESTION: can you please calculate ( 15 / 3 ) + ( 2^4 - 6 ) * ( 9 - 5 )?\n",
      "\n",
      "ANSWER: Alright, let's break this down in a clear and logical way!\n",
      "\n",
      "The question asks us to calculate the result of this expression:  \n",
      "**(15 ÷ 3) + (2⁴ - 6) × (9 - 5)**\n",
      "\n",
      "Here's how it works step-by-step:\n",
      "\n",
      "1. **First part: (15 ÷ 3):**  \n",
      "   Divide 15 by 3, which gives you **5**.\n",
      "\n",
      "2. **Second part: (2⁴ - 6):**  \n",
      "   The \"2⁴\" means 2 raised to the power of 4, or 2 × 2 × 2 × 2, which equals **16**.  \n",
      "   Subtract 6 from 16, and you get **10**.\n",
      "\n",
      "3. **Third part: (9 - 5):**  \n",
      "   Subtract 5 from 9, and you get **4**.\n",
      "\n",
      "4. **Final step: Combine it all!**  \n",
      "   Now put everything together according to the original equation:  \n",
      "   **5 + (10 × 4)**  \n",
      "   First, multiply 10 by 4, which equals **40**.  \n",
      "   Then add the first part (5), so **5 + 40 = 45**.\n",
      "\n",
      "### Final Answer:  \n",
      "The result of the expression is **45.0** (as reflected in the JSON data).  \n",
      "\n",
      "This JSON simply confirms that the calculated value for the question is correct—it’s **45.0**, no surprises there! Let me know if you'd like me to walk through more calculations like this. 😊\n"
     ]
    }
   ],
   "source": [
    "loop = asyncio.get_event_loop()\n",
    "loop.create_task(main())"
   ]
  }
 ],
 "metadata": {
  "kernelspec": {
   "display_name": ".venv",
   "language": "python",
   "name": "python3"
  },
  "language_info": {
   "codemirror_mode": {
    "name": "ipython",
    "version": 3
   },
   "file_extension": ".py",
   "mimetype": "text/x-python",
   "name": "python",
   "nbconvert_exporter": "python",
   "pygments_lexer": "ipython3",
   "version": "3.12.8"
  }
 },
 "nbformat": 4,
 "nbformat_minor": 2
}
