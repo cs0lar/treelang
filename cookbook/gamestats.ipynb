{
 "cells": [
  {
   "cell_type": "markdown",
   "id": "0fe3d770",
   "metadata": {},
   "source": [
    "# Generate tools dynamically from `treelang` trees\n",
    "\n",
    "This cookbook demonstrates how new tools can be created dynamically based on a `treelang` tree. \n",
    "\n",
    "Suppose you have a large set of very granular tools at your disposal, say for example, a full toolset of database functions. \n",
    "\n",
    "Some of the problems you may wish to solve may be easy to state at a high level but their implementation may be quite complex due to the low level tools.\n",
    "\n",
    "In this cases, once you solve the problem using `treelang` once, you can create a high level tool specific for that high level problem that you can now re-use effectively without needing to infer the underlying tree again.\n",
    "\n",
    "This supports the concept of dynamic MCP servers that can generate and serve tools autonomously.\n",
    "\n",
    "In this simple scenario we simulate a gaming server supporting the following tools (`get_players`, `get_game_stats`, `average`) and try to create a single tool that specifically answers the question: \"compute the average number of hours spent by <some_game> players on the <some_platform> platform\".\n",
    "\n"
   ]
  },
  {
   "cell_type": "markdown",
   "id": "c034e22c",
   "metadata": {},
   "source": [
    "## Imports"
   ]
  },
  {
   "cell_type": "code",
   "execution_count": 4,
   "id": "874c00e3",
   "metadata": {},
   "outputs": [],
   "source": [
    "import asyncio\n",
    "\n",
    "# mcp components for stdio communication\n",
    "from mcp import ClientSession, StdioServerParameters, stdio_client"
   ]
  },
  {
   "cell_type": "markdown",
   "id": "02e81d6c",
   "metadata": {},
   "source": [
    "## Client\n",
    "\n",
    "The interesting operations in the client code are the use of the `describe` function and the tool-generating `AST.tool` function.\n",
    "\n",
    "The `describe` function uses an LLM to describe the given AST. More specifically, it adds a `name` and `description` to the \"program\" represented by this tree. \n",
    "\n",
    "These are used by the `AST.tool` function to create a named `Callable` (a function that you can pass to an MCP server, e.g. `mcp.add_tool(AST.tool(my_tree, session))`)."
   ]
  },
  {
   "cell_type": "code",
   "execution_count": 5,
   "id": "bf396d05",
   "metadata": {},
   "outputs": [],
   "source": [
    "import os\n",
    "\n",
    "from treelang.ai.arborist import EvalType, OpenAIArborist\n",
    "from treelang.ai.provider import MCPToolProvider\n",
    "from treelang.trees.tree import AST\n",
    "\n",
    "USER_PROMPT = \"\"\"\n",
    "Can you tell me the average number of hours spent by {game} players from the {platform} community last month?\n",
    "\"\"\"\n",
    "\n",
    "async def main():\n",
    "    # server parameters for running the gamestats server\n",
    "    path = os.path.join(os.getcwd(), \"gamestats.py\")\n",
    "    expected_stats = [1, 54, 233, 231, 64, 722, 43, 7, 23, 89, 23, 222]\n",
    "    expected_result = sum(expected_stats) / len(expected_stats)\n",
    "\n",
    "    server_params = StdioServerParameters(\n",
    "        path=path, command=\"python\", args=[path], env=None\n",
    "    )\n",
    "\n",
    "    # establish a communication channel with the server\n",
    "    async with stdio_client(server_params) as (read, write):\n",
    "        # create a client session for interaction\n",
    "        async with ClientSession(read, write) as session:\n",
    "            # initialize the session\n",
    "            await session.initialize()\n",
    "            # use the MCP tool provider to supply the tools\n",
    "            provider = MCPToolProvider(session=session)\n",
    "\n",
    "            arborist = OpenAIArborist(model=\"gpt-4o-2024-11-20\", provider=provider)\n",
    "            response = await arborist.eval(\n",
    "                USER_PROMPT.format(game=\"Destiny 2\", platform=\"Steam\"), EvalType.TREE\n",
    "            )\n",
    "            # generate a name and description for the tree\n",
    "            tree = await response.describe()\n",
    "            print(\n",
    "                f\"creating new tool named {tree.name} with description {tree.description}\"\n",
    "            )\n",
    "            tool = await AST.tool(tree, provider=provider)\n",
    "            # run the new tool!\n",
    "            result = await tool(game=\"Doom\", feature=\"hours_played\", platform=\"Sony\")\n",
    "            # check if the result is as expected\n",
    "            assert (\n",
    "                result == expected_result\n",
    "            ), f\"expected {expected_result}, got {result}\"\n",
    "            # success! we could add this tool to an MCP server for future use\n",
    "            print(f\"result: {result}\")"
   ]
  },
  {
   "cell_type": "markdown",
   "id": "6518121a",
   "metadata": {},
   "source": [
    "## Main"
   ]
  },
  {
   "cell_type": "code",
   "execution_count": 6,
   "id": "3058acfa",
   "metadata": {},
   "outputs": [
    {
     "data": {
      "text/plain": [
       "<Task pending name='Task-19' coro=<main() running at /tmp/ipykernel_32756/2633082749.py:11>>"
      ]
     },
     "execution_count": 6,
     "metadata": {},
     "output_type": "execute_result"
    },
    {
     "name": "stdout",
     "output_type": "stream",
     "text": [
      "creating new tool named calculateAverageGameHours with description Computes the average hours played for a specific game feature across players retrieved from a given platform.\n",
      "result: 142.66666666666666\n"
     ]
    }
   ],
   "source": [
    "loop = asyncio.get_event_loop()\n",
    "loop.create_task(main())"
   ]
  }
 ],
 "metadata": {
  "kernelspec": {
   "display_name": ".venv",
   "language": "python",
   "name": "python3"
  },
  "language_info": {
   "codemirror_mode": {
    "name": "ipython",
    "version": 3
   },
   "file_extension": ".py",
   "mimetype": "text/x-python",
   "name": "python",
   "nbconvert_exporter": "python",
   "pygments_lexer": "ipython3",
   "version": "3.12.8"
  }
 },
 "nbformat": 4,
 "nbformat_minor": 5
}
